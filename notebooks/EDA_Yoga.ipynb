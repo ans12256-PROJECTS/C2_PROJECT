{
 "cells": [
  {
   "cell_type": "markdown",
   "id": "38620f0f-d105-4ddc-834e-2bbfd7273b6e",
   "metadata": {},
   "source": [
    "## REFERENCES\n",
    "* https://sites.google.com/view/yoga-82/home#h.101pn8sbpigo\n",
    "* https://docs.google.com/document/d/19u2VzvK7ql8EPohz_Kfre2SaezqdC-0WBv56pGQ-C-M/edit#"
   ]
  },
  {
   "cell_type": "code",
   "execution_count": 1,
   "id": "a2e09a87-df9a-4316-83b6-e0d32d39a207",
   "metadata": {},
   "outputs": [
    {
     "name": "stdout",
     "output_type": "stream",
     "text": [
      "ReadMe.txt         \u001b[34myoga_dataset_links\u001b[m\u001b[m yoga_test.txt      yoga_train.txt\n"
     ]
    }
   ],
   "source": [
    "!ls data"
   ]
  },
  {
   "cell_type": "code",
   "execution_count": 2,
   "id": "a9a61900-88f4-4794-ae71-1603d722f4ba",
   "metadata": {},
   "outputs": [],
   "source": [
    "import numpy as np\n",
    "import pandas as pd\n",
    "import matplotlib.pyplot as plt"
   ]
  },
  {
   "cell_type": "code",
   "execution_count": 3,
   "id": "f3be75f8-ac0c-4f96-9000-c6d7e950b6d0",
   "metadata": {},
   "outputs": [],
   "source": [
    "# TWO (2) separators reference:\n",
    "# https://stackoverflow.com/questions/48063620/pandas-read-csv-for-multiple-delimiters\n",
    "split_columns = ['Pose Name', 'IMG file','Class_6','Class_20','Class_82']\n",
    "df_Classes = pd.read_csv('data/yoga_train.txt', \n",
    "                 sep='/|,', \n",
    "                 header=None, \n",
    "                 names=split_columns, \n",
    "                 engine='python')\n",
    "# Akarna_Dhanurasana/16.jpg,1,8,0\n",
    "# Akarna_Dhanurasana/95.jpg,1,8,0"
   ]
  },
  {
   "cell_type": "code",
   "execution_count": 4,
   "id": "bec20cd3-a26a-4d53-ab42-6ae2751cfb23",
   "metadata": {},
   "outputs": [
    {
     "data": {
      "text/html": [
       "<div>\n",
       "<style scoped>\n",
       "    .dataframe tbody tr th:only-of-type {\n",
       "        vertical-align: middle;\n",
       "    }\n",
       "\n",
       "    .dataframe tbody tr th {\n",
       "        vertical-align: top;\n",
       "    }\n",
       "\n",
       "    .dataframe thead th {\n",
       "        text-align: right;\n",
       "    }\n",
       "</style>\n",
       "<table border=\"1\" class=\"dataframe\">\n",
       "  <thead>\n",
       "    <tr style=\"text-align: right;\">\n",
       "      <th></th>\n",
       "      <th>Pose Name</th>\n",
       "      <th>IMG file</th>\n",
       "      <th>Class_6</th>\n",
       "      <th>Class_20</th>\n",
       "      <th>Class_82</th>\n",
       "    </tr>\n",
       "  </thead>\n",
       "  <tbody>\n",
       "    <tr>\n",
       "      <th>0</th>\n",
       "      <td>Akarna_Dhanurasana</td>\n",
       "      <td>64.jpg</td>\n",
       "      <td>1</td>\n",
       "      <td>8</td>\n",
       "      <td>0</td>\n",
       "    </tr>\n",
       "    <tr>\n",
       "      <th>1</th>\n",
       "      <td>Akarna_Dhanurasana</td>\n",
       "      <td>229.jpg</td>\n",
       "      <td>1</td>\n",
       "      <td>8</td>\n",
       "      <td>0</td>\n",
       "    </tr>\n",
       "    <tr>\n",
       "      <th>2</th>\n",
       "      <td>Akarna_Dhanurasana</td>\n",
       "      <td>128.jpg</td>\n",
       "      <td>1</td>\n",
       "      <td>8</td>\n",
       "      <td>0</td>\n",
       "    </tr>\n",
       "    <tr>\n",
       "      <th>3</th>\n",
       "      <td>Akarna_Dhanurasana</td>\n",
       "      <td>145.jpg</td>\n",
       "      <td>1</td>\n",
       "      <td>8</td>\n",
       "      <td>0</td>\n",
       "    </tr>\n",
       "    <tr>\n",
       "      <th>4</th>\n",
       "      <td>Akarna_Dhanurasana</td>\n",
       "      <td>47.jpg</td>\n",
       "      <td>1</td>\n",
       "      <td>8</td>\n",
       "      <td>0</td>\n",
       "    </tr>\n",
       "  </tbody>\n",
       "</table>\n",
       "</div>"
      ],
      "text/plain": [
       "            Pose Name IMG file  Class_6  Class_20  Class_82\n",
       "0  Akarna_Dhanurasana   64.jpg        1         8         0\n",
       "1  Akarna_Dhanurasana  229.jpg        1         8         0\n",
       "2  Akarna_Dhanurasana  128.jpg        1         8         0\n",
       "3  Akarna_Dhanurasana  145.jpg        1         8         0\n",
       "4  Akarna_Dhanurasana   47.jpg        1         8         0"
      ]
     },
     "execution_count": 4,
     "metadata": {},
     "output_type": "execute_result"
    }
   ],
   "source": [
    "df_Classes.head()"
   ]
  },
  {
   "cell_type": "code",
   "execution_count": 5,
   "id": "9e66fae2-0f2f-4a55-a2ce-142944572e34",
   "metadata": {},
   "outputs": [
    {
     "data": {
      "text/plain": [
       "(20994, 5)"
      ]
     },
     "execution_count": 5,
     "metadata": {},
     "output_type": "execute_result"
    }
   ],
   "source": [
    "df_Classes.shape"
   ]
  },
  {
   "cell_type": "code",
   "execution_count": 6,
   "id": "17af212f-a87e-4b9b-a473-ac88b7446aa6",
   "metadata": {},
   "outputs": [
    {
     "data": {
      "text/plain": [
       "Pose Name    20994\n",
       "IMG file     20994\n",
       "Class_6      20994\n",
       "Class_20     20994\n",
       "Class_82     20994\n",
       "dtype: int64"
      ]
     },
     "execution_count": 6,
     "metadata": {},
     "output_type": "execute_result"
    }
   ],
   "source": [
    "df_Classes.count()"
   ]
  },
  {
   "cell_type": "code",
   "execution_count": 7,
   "id": "c3173661-ca3c-4640-88da-8eafb4ccfe4d",
   "metadata": {},
   "outputs": [
    {
     "data": {
      "text/plain": [
       "Pose Name    6011\n",
       "IMG file     6011\n",
       "Class_6      6011\n",
       "Class_20     6011\n",
       "Class_82     6011\n",
       "dtype: int64"
      ]
     },
     "execution_count": 7,
     "metadata": {},
     "output_type": "execute_result"
    }
   ],
   "source": [
    "Class_6_0 = df_Classes.Class_6 == 0\n",
    "df_Classes[Class_6_0].count()"
   ]
  },
  {
   "cell_type": "code",
   "execution_count": 8,
   "id": "ce511ee1-8ab6-4c7f-814b-de6f4ec7d9af",
   "metadata": {},
   "outputs": [
    {
     "data": {
      "image/png": "[encoded data removed]",
      "text/plain": [
       "<Figure size 1080x1080 with 4 Axes>"
      ]
     },
     "metadata": {
      "needs_background": "light"
     },
     "output_type": "display_data"
    }
   ],
   "source": [
    "df_Classes.hist(figsize=(15,15))\n",
    "plt.savefig('df_hist.pdf', dpi=300)"
   ]
  },
  {
   "cell_type": "code",
   "execution_count": 9,
   "id": "f877c2b4-a18e-4825-83ef-9f9d705a02f6",
   "metadata": {},
   "outputs": [],
   "source": [
    "# ! ls data/yoga_dataset_links"
   ]
  },
  {
   "cell_type": "code",
   "execution_count": 10,
   "id": "26d2ef8d-3f0e-4fc2-9d92-0b74ac93d15a",
   "metadata": {},
   "outputs": [],
   "source": [
    "split_columns = ['Pose Name', 'IMG file', 'URL']\n",
    "#  sep='/| '\n",
    "df_URLs = pd.read_csv(\"data/yoga_dataset_links/Akarna_Dhanurasana.txt\", \n",
    "                    header=None, \n",
    "                    names=split_columns, \n",
    "                    sep='\\t',\n",
    "                    engine='python')\n",
    "\n",
    "#                    delimiter=r'^([^\\/]*)\\/',\n",
    "\n",
    "\n",
    "#                   sep='\\s+', \n",
    "#                     delimiter=r'[/]',\n",
    "# delimiter=r'[^([^\\/]*)\\/]\n",
    "#                     sep=\"\\t\") #,\n",
    "#                     engine='python') #,sep=\"\\t\")\n",
    "#                  sep=\"/|\\t\") #,\n",
    "#                  header=None, \n",
    "#                  names=split_columns)\n",
    " \n",
    "#                  sep=\"/|\\t\",\n",
    "#                  header=None, \n",
    "#                  names=split_columns, \n",
    "#                  engine=\"python\"\n",
    "\n",
    "# Akarna_Dhanurasana/0_377.jpg\thttp://www.forteyoga.com/wp-content/uploads/2014/01/Bow-To-Ear-Yoga-Pose-420x315.png\n",
    "# Akarna_Dhanurasana/0_350.jpg\thttp://img1.dinamalar.com/kovilimages/news/TN_170612000000.jpg\n"
   ]
  },
  {
   "cell_type": "code",
   "execution_count": 11,
   "id": "9545390c-934e-4dd5-9e81-0d6c659749b5",
   "metadata": {},
   "outputs": [
    {
     "data": {
      "text/html": [
       "<div>\n",
       "<style scoped>\n",
       "    .dataframe tbody tr th:only-of-type {\n",
       "        vertical-align: middle;\n",
       "    }\n",
       "\n",
       "    .dataframe tbody tr th {\n",
       "        vertical-align: top;\n",
       "    }\n",
       "\n",
       "    .dataframe thead th {\n",
       "        text-align: right;\n",
       "    }\n",
       "</style>\n",
       "<table border=\"1\" class=\"dataframe\">\n",
       "  <thead>\n",
       "    <tr style=\"text-align: right;\">\n",
       "      <th></th>\n",
       "      <th>Pose Name</th>\n",
       "      <th>IMG file</th>\n",
       "      <th>URL</th>\n",
       "    </tr>\n",
       "  </thead>\n",
       "  <tbody>\n",
       "    <tr>\n",
       "      <th>0</th>\n",
       "      <td>Akarna_Dhanurasana/680.jpg</td>\n",
       "      <td>http://allyogapositions.com/wp-content/uploads...</td>\n",
       "      <td>NaN</td>\n",
       "    </tr>\n",
       "    <tr>\n",
       "      <th>1</th>\n",
       "      <td>Akarna_Dhanurasana/543.jpg</td>\n",
       "      <td>https://image.slidesharecdn.com/basicyogapostu...</td>\n",
       "      <td>NaN</td>\n",
       "    </tr>\n",
       "    <tr>\n",
       "      <th>2</th>\n",
       "      <td>Akarna_Dhanurasana/512.jpg</td>\n",
       "      <td>https://image.slidesharecdn.com/basicyogapostu...</td>\n",
       "      <td>NaN</td>\n",
       "    </tr>\n",
       "    <tr>\n",
       "      <th>3</th>\n",
       "      <td>Akarna_Dhanurasana/478.jpg</td>\n",
       "      <td>http://nicholchaseyoga.com/wp-content/uploads/...</td>\n",
       "      <td>NaN</td>\n",
       "    </tr>\n",
       "    <tr>\n",
       "      <th>4</th>\n",
       "      <td>Akarna_Dhanurasana/434.jpg</td>\n",
       "      <td>http://3.bp.blogspot.com/_SUO8HYzS2nw/SUPSs71K...</td>\n",
       "      <td>NaN</td>\n",
       "    </tr>\n",
       "  </tbody>\n",
       "</table>\n",
       "</div>"
      ],
      "text/plain": [
       "                    Pose Name  \\\n",
       "0  Akarna_Dhanurasana/680.jpg   \n",
       "1  Akarna_Dhanurasana/543.jpg   \n",
       "2  Akarna_Dhanurasana/512.jpg   \n",
       "3  Akarna_Dhanurasana/478.jpg   \n",
       "4  Akarna_Dhanurasana/434.jpg   \n",
       "\n",
       "                                            IMG file  URL  \n",
       "0  http://allyogapositions.com/wp-content/uploads...  NaN  \n",
       "1  https://image.slidesharecdn.com/basicyogapostu...  NaN  \n",
       "2  https://image.slidesharecdn.com/basicyogapostu...  NaN  \n",
       "3  http://nicholchaseyoga.com/wp-content/uploads/...  NaN  \n",
       "4  http://3.bp.blogspot.com/_SUO8HYzS2nw/SUPSs71K...  NaN  "
      ]
     },
     "execution_count": 11,
     "metadata": {},
     "output_type": "execute_result"
    }
   ],
   "source": [
    "df_URLs.head()"
   ]
  },
  {
   "cell_type": "code",
   "execution_count": 170,
   "id": "91e3a926-1018-4c3f-a9b7-c51e44399e6e",
   "metadata": {},
   "outputs": [],
   "source": [
    "zz='Camel_Pose_or_Ustrasana_/99.jpg\thttp://1.bp.blogspot.com/-_JkuYTKbf7w/TaPAYnD9obI/AAAAAAAAAFg/OKafaoY43UQ/s1600/Screen%2Bshot%2B2011-04-11%2Bat%2B4.52.53%2BPM.png'\n"
   ]
  },
  {
   "cell_type": "code",
   "execution_count": 172,
   "id": "a40c0cf7-8d79-4791-9e01-1ea321a4db02",
   "metadata": {},
   "outputs": [
    {
     "data": {
      "text/plain": [
       "'http://1.bp.blogspot.com/-_JkuYTKbf7w/TaPAYnD9obI/AAAAAAAAAFg/OKafaoY43UQ/s1600/Screen%2Bshot%2B2011-04-11%2Bat%2B4.52.53%2BPM.png'"
      ]
     },
     "execution_count": 172,
     "metadata": {},
     "output_type": "execute_result"
    }
   ],
   "source": [
    "zz.split('\\t')[1]"
   ]
  },
  {
   "cell_type": "code",
   "execution_count": 173,
   "id": "2eb73dcc-3023-4ee2-a071-65d7e4c6c880",
   "metadata": {},
   "outputs": [
    {
     "data": {
      "text/plain": [
       "'Camel_Pose_or_Ustrasana_'"
      ]
     },
     "execution_count": 173,
     "metadata": {},
     "output_type": "execute_result"
    }
   ],
   "source": [
    "zz.split('\\t')[0].split('/')[0]"
   ]
  },
  {
   "cell_type": "code",
   "execution_count": 12,
   "id": "553b2b7d-e278-48ce-8c2e-fd33700dbfc8",
   "metadata": {},
   "outputs": [],
   "source": [
    "df_URLs.URL = df_URLs['IMG file']"
   ]
  },
  {
   "cell_type": "code",
   "execution_count": 13,
   "id": "93e2021b-5bb8-4250-bb3c-ce5638484ba9",
   "metadata": {},
   "outputs": [
    {
     "data": {
      "text/html": [
       "<div>\n",
       "<style scoped>\n",
       "    .dataframe tbody tr th:only-of-type {\n",
       "        vertical-align: middle;\n",
       "    }\n",
       "\n",
       "    .dataframe tbody tr th {\n",
       "        vertical-align: top;\n",
       "    }\n",
       "\n",
       "    .dataframe thead th {\n",
       "        text-align: right;\n",
       "    }\n",
       "</style>\n",
       "<table border=\"1\" class=\"dataframe\">\n",
       "  <thead>\n",
       "    <tr style=\"text-align: right;\">\n",
       "      <th></th>\n",
       "      <th>Pose Name</th>\n",
       "      <th>IMG file</th>\n",
       "      <th>URL</th>\n",
       "    </tr>\n",
       "  </thead>\n",
       "  <tbody>\n",
       "    <tr>\n",
       "      <th>0</th>\n",
       "      <td>Akarna_Dhanurasana/680.jpg</td>\n",
       "      <td>http://allyogapositions.com/wp-content/uploads...</td>\n",
       "      <td>http://allyogapositions.com/wp-content/uploads...</td>\n",
       "    </tr>\n",
       "    <tr>\n",
       "      <th>1</th>\n",
       "      <td>Akarna_Dhanurasana/543.jpg</td>\n",
       "      <td>https://image.slidesharecdn.com/basicyogapostu...</td>\n",
       "      <td>https://image.slidesharecdn.com/basicyogapostu...</td>\n",
       "    </tr>\n",
       "    <tr>\n",
       "      <th>2</th>\n",
       "      <td>Akarna_Dhanurasana/512.jpg</td>\n",
       "      <td>https://image.slidesharecdn.com/basicyogapostu...</td>\n",
       "      <td>https://image.slidesharecdn.com/basicyogapostu...</td>\n",
       "    </tr>\n",
       "    <tr>\n",
       "      <th>3</th>\n",
       "      <td>Akarna_Dhanurasana/478.jpg</td>\n",
       "      <td>http://nicholchaseyoga.com/wp-content/uploads/...</td>\n",
       "      <td>http://nicholchaseyoga.com/wp-content/uploads/...</td>\n",
       "    </tr>\n",
       "    <tr>\n",
       "      <th>4</th>\n",
       "      <td>Akarna_Dhanurasana/434.jpg</td>\n",
       "      <td>http://3.bp.blogspot.com/_SUO8HYzS2nw/SUPSs71K...</td>\n",
       "      <td>http://3.bp.blogspot.com/_SUO8HYzS2nw/SUPSs71K...</td>\n",
       "    </tr>\n",
       "  </tbody>\n",
       "</table>\n",
       "</div>"
      ],
      "text/plain": [
       "                    Pose Name  \\\n",
       "0  Akarna_Dhanurasana/680.jpg   \n",
       "1  Akarna_Dhanurasana/543.jpg   \n",
       "2  Akarna_Dhanurasana/512.jpg   \n",
       "3  Akarna_Dhanurasana/478.jpg   \n",
       "4  Akarna_Dhanurasana/434.jpg   \n",
       "\n",
       "                                            IMG file  \\\n",
       "0  http://allyogapositions.com/wp-content/uploads...   \n",
       "1  https://image.slidesharecdn.com/basicyogapostu...   \n",
       "2  https://image.slidesharecdn.com/basicyogapostu...   \n",
       "3  http://nicholchaseyoga.com/wp-content/uploads/...   \n",
       "4  http://3.bp.blogspot.com/_SUO8HYzS2nw/SUPSs71K...   \n",
       "\n",
       "                                                 URL  \n",
       "0  http://allyogapositions.com/wp-content/uploads...  \n",
       "1  https://image.slidesharecdn.com/basicyogapostu...  \n",
       "2  https://image.slidesharecdn.com/basicyogapostu...  \n",
       "3  http://nicholchaseyoga.com/wp-content/uploads/...  \n",
       "4  http://3.bp.blogspot.com/_SUO8HYzS2nw/SUPSs71K...  "
      ]
     },
     "execution_count": 13,
     "metadata": {},
     "output_type": "execute_result"
    }
   ],
   "source": [
    "df_URLs.head()"
   ]
  },
  {
   "cell_type": "code",
   "execution_count": 14,
   "id": "36dc619e-2ff5-4d09-8b22-1eb87ef66506",
   "metadata": {},
   "outputs": [],
   "source": [
    "# split_col_1 = df_URLs['Pose Name'].str.split('/')"
   ]
  },
  {
   "cell_type": "code",
   "execution_count": 15,
   "id": "59304b02-614b-4307-92f8-c3d9a5dcb223",
   "metadata": {},
   "outputs": [
    {
     "data": {
      "text/html": [
       "<div>\n",
       "<style scoped>\n",
       "    .dataframe tbody tr th:only-of-type {\n",
       "        vertical-align: middle;\n",
       "    }\n",
       "\n",
       "    .dataframe tbody tr th {\n",
       "        vertical-align: top;\n",
       "    }\n",
       "\n",
       "    .dataframe thead th {\n",
       "        text-align: right;\n",
       "    }\n",
       "</style>\n",
       "<table border=\"1\" class=\"dataframe\">\n",
       "  <thead>\n",
       "    <tr style=\"text-align: right;\">\n",
       "      <th></th>\n",
       "      <th>Pose Name</th>\n",
       "      <th>IMG file</th>\n",
       "      <th>URL</th>\n",
       "    </tr>\n",
       "  </thead>\n",
       "  <tbody>\n",
       "    <tr>\n",
       "      <th>0</th>\n",
       "      <td>Akarna_Dhanurasana/680.jpg</td>\n",
       "      <td>680.jpg</td>\n",
       "      <td>http://allyogapositions.com/wp-content/uploads...</td>\n",
       "    </tr>\n",
       "    <tr>\n",
       "      <th>1</th>\n",
       "      <td>Akarna_Dhanurasana/543.jpg</td>\n",
       "      <td>543.jpg</td>\n",
       "      <td>https://image.slidesharecdn.com/basicyogapostu...</td>\n",
       "    </tr>\n",
       "    <tr>\n",
       "      <th>2</th>\n",
       "      <td>Akarna_Dhanurasana/512.jpg</td>\n",
       "      <td>512.jpg</td>\n",
       "      <td>https://image.slidesharecdn.com/basicyogapostu...</td>\n",
       "    </tr>\n",
       "    <tr>\n",
       "      <th>3</th>\n",
       "      <td>Akarna_Dhanurasana/478.jpg</td>\n",
       "      <td>478.jpg</td>\n",
       "      <td>http://nicholchaseyoga.com/wp-content/uploads/...</td>\n",
       "    </tr>\n",
       "    <tr>\n",
       "      <th>4</th>\n",
       "      <td>Akarna_Dhanurasana/434.jpg</td>\n",
       "      <td>434.jpg</td>\n",
       "      <td>http://3.bp.blogspot.com/_SUO8HYzS2nw/SUPSs71K...</td>\n",
       "    </tr>\n",
       "  </tbody>\n",
       "</table>\n",
       "</div>"
      ],
      "text/plain": [
       "                    Pose Name IMG file  \\\n",
       "0  Akarna_Dhanurasana/680.jpg  680.jpg   \n",
       "1  Akarna_Dhanurasana/543.jpg  543.jpg   \n",
       "2  Akarna_Dhanurasana/512.jpg  512.jpg   \n",
       "3  Akarna_Dhanurasana/478.jpg  478.jpg   \n",
       "4  Akarna_Dhanurasana/434.jpg  434.jpg   \n",
       "\n",
       "                                                 URL  \n",
       "0  http://allyogapositions.com/wp-content/uploads...  \n",
       "1  https://image.slidesharecdn.com/basicyogapostu...  \n",
       "2  https://image.slidesharecdn.com/basicyogapostu...  \n",
       "3  http://nicholchaseyoga.com/wp-content/uploads/...  \n",
       "4  http://3.bp.blogspot.com/_SUO8HYzS2nw/SUPSs71K...  "
      ]
     },
     "execution_count": 15,
     "metadata": {},
     "output_type": "execute_result"
    }
   ],
   "source": [
    "df_URLs['IMG file'] = df_URLs['Pose Name'].apply(lambda x: x.split('/')[1] )\n",
    "df_URLs.head()"
   ]
  },
  {
   "cell_type": "code",
   "execution_count": 16,
   "id": "6fa3b4bb-5349-4bb2-ac60-c57fb0cb655a",
   "metadata": {},
   "outputs": [
    {
     "data": {
      "text/html": [
       "<div>\n",
       "<style scoped>\n",
       "    .dataframe tbody tr th:only-of-type {\n",
       "        vertical-align: middle;\n",
       "    }\n",
       "\n",
       "    .dataframe tbody tr th {\n",
       "        vertical-align: top;\n",
       "    }\n",
       "\n",
       "    .dataframe thead th {\n",
       "        text-align: right;\n",
       "    }\n",
       "</style>\n",
       "<table border=\"1\" class=\"dataframe\">\n",
       "  <thead>\n",
       "    <tr style=\"text-align: right;\">\n",
       "      <th></th>\n",
       "      <th>Pose Name</th>\n",
       "      <th>IMG file</th>\n",
       "      <th>URL</th>\n",
       "    </tr>\n",
       "  </thead>\n",
       "  <tbody>\n",
       "    <tr>\n",
       "      <th>0</th>\n",
       "      <td>Akarna_Dhanurasana</td>\n",
       "      <td>680.jpg</td>\n",
       "      <td>http://allyogapositions.com/wp-content/uploads...</td>\n",
       "    </tr>\n",
       "    <tr>\n",
       "      <th>1</th>\n",
       "      <td>Akarna_Dhanurasana</td>\n",
       "      <td>543.jpg</td>\n",
       "      <td>https://image.slidesharecdn.com/basicyogapostu...</td>\n",
       "    </tr>\n",
       "    <tr>\n",
       "      <th>2</th>\n",
       "      <td>Akarna_Dhanurasana</td>\n",
       "      <td>512.jpg</td>\n",
       "      <td>https://image.slidesharecdn.com/basicyogapostu...</td>\n",
       "    </tr>\n",
       "    <tr>\n",
       "      <th>3</th>\n",
       "      <td>Akarna_Dhanurasana</td>\n",
       "      <td>478.jpg</td>\n",
       "      <td>http://nicholchaseyoga.com/wp-content/uploads/...</td>\n",
       "    </tr>\n",
       "    <tr>\n",
       "      <th>4</th>\n",
       "      <td>Akarna_Dhanurasana</td>\n",
       "      <td>434.jpg</td>\n",
       "      <td>http://3.bp.blogspot.com/_SUO8HYzS2nw/SUPSs71K...</td>\n",
       "    </tr>\n",
       "  </tbody>\n",
       "</table>\n",
       "</div>"
      ],
      "text/plain": [
       "            Pose Name IMG file  \\\n",
       "0  Akarna_Dhanurasana  680.jpg   \n",
       "1  Akarna_Dhanurasana  543.jpg   \n",
       "2  Akarna_Dhanurasana  512.jpg   \n",
       "3  Akarna_Dhanurasana  478.jpg   \n",
       "4  Akarna_Dhanurasana  434.jpg   \n",
       "\n",
       "                                                 URL  \n",
       "0  http://allyogapositions.com/wp-content/uploads...  \n",
       "1  https://image.slidesharecdn.com/basicyogapostu...  \n",
       "2  https://image.slidesharecdn.com/basicyogapostu...  \n",
       "3  http://nicholchaseyoga.com/wp-content/uploads/...  \n",
       "4  http://3.bp.blogspot.com/_SUO8HYzS2nw/SUPSs71K...  "
      ]
     },
     "execution_count": 16,
     "metadata": {},
     "output_type": "execute_result"
    }
   ],
   "source": [
    "df_URLs['Pose Name'] = df_URLs['Pose Name'].apply(lambda x: x.split('/')[0] )\n",
    "df_URLs.head()"
   ]
  },
  {
   "cell_type": "code",
   "execution_count": 17,
   "id": "86001e4e-1b13-4262-82d4-731136011445",
   "metadata": {},
   "outputs": [
    {
     "name": "stdout",
     "output_type": "stream",
     "text": [
      "Variable        Type         Data/Info\n",
      "--------------------------------------\n",
      "Class_6_0       Series       0        False\\n1        <...>ength: 20994, dtype: bool\n",
      "df_Classes      DataFrame                             <...>n[20994 rows x 5 columns]\n",
      "df_URLs         DataFrame                  Pose Name I<...>n\\n[120 rows x 3 columns]\n",
      "np              module       <module 'numpy' from '/Us<...>kages/numpy/__init__.py'>\n",
      "pd              module       <module 'pandas' from '/U<...>ages/pandas/__init__.py'>\n",
      "plt             module       <module 'matplotlib.pyplo<...>es/matplotlib/pyplot.py'>\n",
      "split_columns   list         n=3\n"
     ]
    }
   ],
   "source": [
    "whos"
   ]
  },
  {
   "cell_type": "code",
   "execution_count": null,
   "id": "8ad5728a-236a-459e-91a0-35047900f14a",
   "metadata": {},
   "outputs": [],
   "source": []
  },
  {
   "cell_type": "code",
   "execution_count": 20,
   "id": "8837ca6f-5500-40f2-afc7-ff0ca186fb70",
   "metadata": {},
   "outputs": [
    {
     "name": "stdout",
     "output_type": "stream",
     "text": [
      "Variable        Type         Data/Info\n",
      "--------------------------------------\n",
      "Class_6_0       Series       0        False\\n1        <...>ength: 20994, dtype: bool\n",
      "df_Classes      DataFrame                             <...>n[20994 rows x 5 columns]\n",
      "df_URLs         DataFrame                  Pose Name I<...>n\\n[120 rows x 3 columns]\n",
      "np              module       <module 'numpy' from '/Us<...>kages/numpy/__init__.py'>\n",
      "pd              module       <module 'pandas' from '/U<...>ages/pandas/__init__.py'>\n",
      "plt             module       <module 'matplotlib.pyplo<...>es/matplotlib/pyplot.py'>\n",
      "split_columns   list         n=3\n"
     ]
    }
   ],
   "source": [
    "whos"
   ]
  },
  {
   "cell_type": "code",
   "execution_count": 93,
   "id": "bb86e2af-74d4-4120-b7ba-0617f10c1df8",
   "metadata": {},
   "outputs": [
    {
     "data": {
      "text/html": [
       "<div>\n",
       "<style scoped>\n",
       "    .dataframe tbody tr th:only-of-type {\n",
       "        vertical-align: middle;\n",
       "    }\n",
       "\n",
       "    .dataframe tbody tr th {\n",
       "        vertical-align: top;\n",
       "    }\n",
       "\n",
       "    .dataframe thead th {\n",
       "        text-align: right;\n",
       "    }\n",
       "</style>\n",
       "<table border=\"1\" class=\"dataframe\">\n",
       "  <thead>\n",
       "    <tr style=\"text-align: right;\">\n",
       "      <th></th>\n",
       "      <th>Pose Name</th>\n",
       "      <th>IMG file</th>\n",
       "      <th>Class_6</th>\n",
       "      <th>Class_20</th>\n",
       "      <th>Class_82</th>\n",
       "    </tr>\n",
       "  </thead>\n",
       "  <tbody>\n",
       "    <tr>\n",
       "      <th>0</th>\n",
       "      <td>Akarna_Dhanurasana</td>\n",
       "      <td>64.jpg</td>\n",
       "      <td>1</td>\n",
       "      <td>8</td>\n",
       "      <td>0</td>\n",
       "    </tr>\n",
       "    <tr>\n",
       "      <th>1</th>\n",
       "      <td>Akarna_Dhanurasana</td>\n",
       "      <td>229.jpg</td>\n",
       "      <td>1</td>\n",
       "      <td>8</td>\n",
       "      <td>0</td>\n",
       "    </tr>\n",
       "    <tr>\n",
       "      <th>2</th>\n",
       "      <td>Akarna_Dhanurasana</td>\n",
       "      <td>128.jpg</td>\n",
       "      <td>1</td>\n",
       "      <td>8</td>\n",
       "      <td>0</td>\n",
       "    </tr>\n",
       "    <tr>\n",
       "      <th>3</th>\n",
       "      <td>Akarna_Dhanurasana</td>\n",
       "      <td>145.jpg</td>\n",
       "      <td>1</td>\n",
       "      <td>8</td>\n",
       "      <td>0</td>\n",
       "    </tr>\n",
       "    <tr>\n",
       "      <th>4</th>\n",
       "      <td>Akarna_Dhanurasana</td>\n",
       "      <td>47.jpg</td>\n",
       "      <td>1</td>\n",
       "      <td>8</td>\n",
       "      <td>0</td>\n",
       "    </tr>\n",
       "  </tbody>\n",
       "</table>\n",
       "</div>"
      ],
      "text/plain": [
       "            Pose Name IMG file  Class_6  Class_20  Class_82\n",
       "0  Akarna_Dhanurasana   64.jpg        1         8         0\n",
       "1  Akarna_Dhanurasana  229.jpg        1         8         0\n",
       "2  Akarna_Dhanurasana  128.jpg        1         8         0\n",
       "3  Akarna_Dhanurasana  145.jpg        1         8         0\n",
       "4  Akarna_Dhanurasana   47.jpg        1         8         0"
      ]
     },
     "execution_count": 93,
     "metadata": {},
     "output_type": "execute_result"
    }
   ],
   "source": [
    "df_Classes.head()"
   ]
  },
  {
   "cell_type": "code",
   "execution_count": 109,
   "id": "c8dd6f9e-f5df-4946-911d-9318eea3d28f",
   "metadata": {},
   "outputs": [],
   "source": [
    "df_Classes.shape  # (20994, 5)\n",
    "z = df_Classes['IMG file'].unique().tolist()"
   ]
  },
  {
   "cell_type": "code",
   "execution_count": 121,
   "id": "90477721-ac2d-4970-a3b8-ae4eb528b648",
   "metadata": {},
   "outputs": [
    {
     "data": {
      "text/plain": [
       "4167"
      ]
     },
     "execution_count": 121,
     "metadata": {},
     "output_type": "execute_result"
    }
   ],
   "source": [
    "len(z) #dir()"
   ]
  },
  {
   "cell_type": "code",
   "execution_count": 168,
   "id": "1c4a619a-1caf-43d6-808a-6eec0542dc54",
   "metadata": {},
   "outputs": [
    {
     "data": {
      "text/plain": [
       "2.jpg          36\n",
       "3.jpg          34\n",
       "71.jpg         33\n",
       "64.jpg         33\n",
       "19.jpg         33\n",
       "               ..\n",
       "2_0_10.jpg      1\n",
       "3_451.jpg       1\n",
       "1_0_435.jpg     1\n",
       "3_0_144.jpg     1\n",
       "2_0_116.jpg     1\n",
       "Name: IMG file, Length: 4167, dtype: int64"
      ]
     },
     "execution_count": 168,
     "metadata": {},
     "output_type": "execute_result"
    }
   ],
   "source": [
    "# some images are classified in 36?! different categories?\n",
    "df_Classes['IMG file'].value_counts(sort=True) #.hist()"
   ]
  },
  {
   "cell_type": "code",
   "execution_count": 142,
   "id": "497df30e-6b6b-4c2a-aa8b-fdbaaa30b015",
   "metadata": {},
   "outputs": [
    {
     "data": {
      "text/html": [
       "<div>\n",
       "<style scoped>\n",
       "    .dataframe tbody tr th:only-of-type {\n",
       "        vertical-align: middle;\n",
       "    }\n",
       "\n",
       "    .dataframe tbody tr th {\n",
       "        vertical-align: top;\n",
       "    }\n",
       "\n",
       "    .dataframe thead th {\n",
       "        text-align: right;\n",
       "    }\n",
       "</style>\n",
       "<table border=\"1\" class=\"dataframe\">\n",
       "  <thead>\n",
       "    <tr style=\"text-align: right;\">\n",
       "      <th></th>\n",
       "      <th>Pose Name</th>\n",
       "      <th>IMG file</th>\n",
       "      <th>Class_6</th>\n",
       "      <th>Class_20</th>\n",
       "      <th>Class_82</th>\n",
       "    </tr>\n",
       "  </thead>\n",
       "  <tbody>\n",
       "    <tr>\n",
       "      <th>33</th>\n",
       "      <td>Akarna_Dhanurasana</td>\n",
       "      <td>2.jpg</td>\n",
       "      <td>1</td>\n",
       "      <td>8</td>\n",
       "      <td>0</td>\n",
       "    </tr>\n",
       "    <tr>\n",
       "      <th>102</th>\n",
       "      <td>Bharadvaja's_Twist_pose_or_Bharadvajasana_I_</td>\n",
       "      <td>2.jpg</td>\n",
       "      <td>1</td>\n",
       "      <td>5</td>\n",
       "      <td>1</td>\n",
       "    </tr>\n",
       "    <tr>\n",
       "      <th>319</th>\n",
       "      <td>Boat_Pose_or_Paripurna_Navasana_</td>\n",
       "      <td>2.jpg</td>\n",
       "      <td>5</td>\n",
       "      <td>19</td>\n",
       "      <td>2</td>\n",
       "    </tr>\n",
       "    <tr>\n",
       "      <th>1584</th>\n",
       "      <td>Camel_Pose_or_Ustrasana_</td>\n",
       "      <td>2.jpg</td>\n",
       "      <td>5</td>\n",
       "      <td>17</td>\n",
       "      <td>6</td>\n",
       "    </tr>\n",
       "    <tr>\n",
       "      <th>2611</th>\n",
       "      <td>Child_Pose_or_Balasana_</td>\n",
       "      <td>2.jpg</td>\n",
       "      <td>4</td>\n",
       "      <td>14</td>\n",
       "      <td>9</td>\n",
       "    </tr>\n",
       "    <tr>\n",
       "      <th>4233</th>\n",
       "      <td>Corpse_Pose_or_Savasana_</td>\n",
       "      <td>2.jpg</td>\n",
       "      <td>4</td>\n",
       "      <td>13</td>\n",
       "      <td>12</td>\n",
       "    </tr>\n",
       "    <tr>\n",
       "      <th>4365</th>\n",
       "      <td>Cow_Face_Pose_or_Gomukhasana_</td>\n",
       "      <td>2.jpg</td>\n",
       "      <td>1</td>\n",
       "      <td>5</td>\n",
       "      <td>13</td>\n",
       "    </tr>\n",
       "    <tr>\n",
       "      <th>4949</th>\n",
       "      <td>Dolphin_Plank_Pose_or_Makara_Adho_Mukha_Svanas...</td>\n",
       "      <td>2.jpg</td>\n",
       "      <td>4</td>\n",
       "      <td>16</td>\n",
       "      <td>15</td>\n",
       "    </tr>\n",
       "    <tr>\n",
       "      <th>5171</th>\n",
       "      <td>Downward-Facing_Dog_pose_or_Adho_Mukha_Svanasana_</td>\n",
       "      <td>2.jpg</td>\n",
       "      <td>0</td>\n",
       "      <td>1</td>\n",
       "      <td>17</td>\n",
       "    </tr>\n",
       "    <tr>\n",
       "      <th>5680</th>\n",
       "      <td>Eagle_Pose_or_Garudasana_</td>\n",
       "      <td>2.jpg</td>\n",
       "      <td>0</td>\n",
       "      <td>0</td>\n",
       "      <td>18</td>\n",
       "    </tr>\n",
       "    <tr>\n",
       "      <th>5905</th>\n",
       "      <td>Eight-Angle_Pose_or_Astavakrasana_</td>\n",
       "      <td>2.jpg</td>\n",
       "      <td>2</td>\n",
       "      <td>10</td>\n",
       "      <td>19</td>\n",
       "    </tr>\n",
       "    <tr>\n",
       "      <th>7467</th>\n",
       "      <td>Firefly_Pose_or_Tittibhasana_</td>\n",
       "      <td>2.jpg</td>\n",
       "      <td>2</td>\n",
       "      <td>9</td>\n",
       "      <td>24</td>\n",
       "    </tr>\n",
       "    <tr>\n",
       "      <th>8003</th>\n",
       "      <td>Four-Limbed_Staff_Pose_or_Chaturanga_Dandasana_</td>\n",
       "      <td>2.jpg</td>\n",
       "      <td>4</td>\n",
       "      <td>16</td>\n",
       "      <td>26</td>\n",
       "    </tr>\n",
       "    <tr>\n",
       "      <th>9455</th>\n",
       "      <td>Handstand_pose_or_Adho_Mukha_Vrksasana_</td>\n",
       "      <td>2.jpg</td>\n",
       "      <td>3</td>\n",
       "      <td>11</td>\n",
       "      <td>32</td>\n",
       "    </tr>\n",
       "    <tr>\n",
       "      <th>9714</th>\n",
       "      <td>Happy_Baby_Pose_or_Ananda_Balasana_</td>\n",
       "      <td>2.jpg</td>\n",
       "      <td>4</td>\n",
       "      <td>13</td>\n",
       "      <td>33</td>\n",
       "    </tr>\n",
       "    <tr>\n",
       "      <th>10138</th>\n",
       "      <td>Intense_Side_Stretch_Pose_or_Parsvottanasana_</td>\n",
       "      <td>2.jpg</td>\n",
       "      <td>0</td>\n",
       "      <td>1</td>\n",
       "      <td>36</td>\n",
       "    </tr>\n",
       "    <tr>\n",
       "      <th>10343</th>\n",
       "      <td>Legs-Up-the-Wall_Pose_or_Viparita_Karani_</td>\n",
       "      <td>2.jpg</td>\n",
       "      <td>3</td>\n",
       "      <td>11</td>\n",
       "      <td>37</td>\n",
       "    </tr>\n",
       "    <tr>\n",
       "      <th>10793</th>\n",
       "      <td>Locust_Pose_or_Salabhasana_</td>\n",
       "      <td>2.jpg</td>\n",
       "      <td>4</td>\n",
       "      <td>14</td>\n",
       "      <td>38</td>\n",
       "    </tr>\n",
       "    <tr>\n",
       "      <th>11161</th>\n",
       "      <td>Lord_of_the_Dance_Pose_or_Natarajasana_</td>\n",
       "      <td>2.jpg</td>\n",
       "      <td>0</td>\n",
       "      <td>3</td>\n",
       "      <td>39</td>\n",
       "    </tr>\n",
       "    <tr>\n",
       "      <th>11236</th>\n",
       "      <td>Low_Lunge_pose_or_Anjaneyasana_</td>\n",
       "      <td>2.jpg</td>\n",
       "      <td>0</td>\n",
       "      <td>2</td>\n",
       "      <td>40</td>\n",
       "    </tr>\n",
       "    <tr>\n",
       "      <th>11505</th>\n",
       "      <td>Noose_Pose_or_Pasasana_</td>\n",
       "      <td>2.jpg</td>\n",
       "      <td>1</td>\n",
       "      <td>4</td>\n",
       "      <td>41</td>\n",
       "    </tr>\n",
       "    <tr>\n",
       "      <th>11807</th>\n",
       "      <td>Plank_Pose_or_Kumbhakasana_</td>\n",
       "      <td>2.jpg</td>\n",
       "      <td>4</td>\n",
       "      <td>16</td>\n",
       "      <td>44</td>\n",
       "    </tr>\n",
       "    <tr>\n",
       "      <th>12066</th>\n",
       "      <td>Plow_Pose_or_Halasana_</td>\n",
       "      <td>2.jpg</td>\n",
       "      <td>3</td>\n",
       "      <td>12</td>\n",
       "      <td>45</td>\n",
       "    </tr>\n",
       "    <tr>\n",
       "      <th>12462</th>\n",
       "      <td>Rajakapotasana</td>\n",
       "      <td>2.jpg</td>\n",
       "      <td>1</td>\n",
       "      <td>8</td>\n",
       "      <td>47</td>\n",
       "    </tr>\n",
       "    <tr>\n",
       "      <th>12565</th>\n",
       "      <td>Reclining_Hand-to-Big-Toe_Pose_or_Supta_Padang...</td>\n",
       "      <td>2.jpg</td>\n",
       "      <td>4</td>\n",
       "      <td>13</td>\n",
       "      <td>48</td>\n",
       "    </tr>\n",
       "    <tr>\n",
       "      <th>13591</th>\n",
       "      <td>Shoulder-Pressing_Pose_or_Bhujapidasana_</td>\n",
       "      <td>2.jpg</td>\n",
       "      <td>2</td>\n",
       "      <td>9</td>\n",
       "      <td>53</td>\n",
       "    </tr>\n",
       "    <tr>\n",
       "      <th>14061</th>\n",
       "      <td>Side_Plank_Pose_or_Vasisthasana_</td>\n",
       "      <td>2.jpg</td>\n",
       "      <td>4</td>\n",
       "      <td>15</td>\n",
       "      <td>56</td>\n",
       "    </tr>\n",
       "    <tr>\n",
       "      <th>16147</th>\n",
       "      <td>Standing_big_toe_hold_pose_or_Utthita_Padangus...</td>\n",
       "      <td>2.jpg</td>\n",
       "      <td>0</td>\n",
       "      <td>3</td>\n",
       "      <td>62</td>\n",
       "    </tr>\n",
       "    <tr>\n",
       "      <th>16271</th>\n",
       "      <td>Supported_Headstand_pose_or_Salamba_Sirsasana_</td>\n",
       "      <td>2.jpg</td>\n",
       "      <td>3</td>\n",
       "      <td>11</td>\n",
       "      <td>63</td>\n",
       "    </tr>\n",
       "    <tr>\n",
       "      <th>17754</th>\n",
       "      <td>Tree_Pose_or_Vrksasana_</td>\n",
       "      <td>2.jpg</td>\n",
       "      <td>0</td>\n",
       "      <td>0</td>\n",
       "      <td>68</td>\n",
       "    </tr>\n",
       "    <tr>\n",
       "      <th>18285</th>\n",
       "      <td>Upward_Bow_(Wheel)_Pose_or_Urdhva_Dhanurasana_</td>\n",
       "      <td>2.jpg</td>\n",
       "      <td>5</td>\n",
       "      <td>17</td>\n",
       "      <td>69</td>\n",
       "    </tr>\n",
       "    <tr>\n",
       "      <th>19341</th>\n",
       "      <td>Warrior_II_Pose_or_Virabhadrasana_II_</td>\n",
       "      <td>2.jpg</td>\n",
       "      <td>0</td>\n",
       "      <td>3</td>\n",
       "      <td>74</td>\n",
       "    </tr>\n",
       "    <tr>\n",
       "      <th>20036</th>\n",
       "      <td>Wide-Legged_Forward_Bend_pose_or_Prasarita_Pad...</td>\n",
       "      <td>2.jpg</td>\n",
       "      <td>0</td>\n",
       "      <td>1</td>\n",
       "      <td>77</td>\n",
       "    </tr>\n",
       "    <tr>\n",
       "      <th>20443</th>\n",
       "      <td>Wild_Thing_pose_or_Camatkarasana_</td>\n",
       "      <td>2.jpg</td>\n",
       "      <td>5</td>\n",
       "      <td>17</td>\n",
       "      <td>78</td>\n",
       "    </tr>\n",
       "    <tr>\n",
       "      <th>20693</th>\n",
       "      <td>Wind_Relieving_pose_or_Pawanmuktasana</td>\n",
       "      <td>2.jpg</td>\n",
       "      <td>4</td>\n",
       "      <td>13</td>\n",
       "      <td>79</td>\n",
       "    </tr>\n",
       "    <tr>\n",
       "      <th>20842</th>\n",
       "      <td>viparita_virabhadrasana_or_reverse_warrior_pose</td>\n",
       "      <td>2.jpg</td>\n",
       "      <td>0</td>\n",
       "      <td>2</td>\n",
       "      <td>81</td>\n",
       "    </tr>\n",
       "  </tbody>\n",
       "</table>\n",
       "</div>"
      ],
      "text/plain": [
       "                                               Pose Name IMG file  Class_6  \\\n",
       "33                                    Akarna_Dhanurasana    2.jpg        1   \n",
       "102         Bharadvaja's_Twist_pose_or_Bharadvajasana_I_    2.jpg        1   \n",
       "319                     Boat_Pose_or_Paripurna_Navasana_    2.jpg        5   \n",
       "1584                            Camel_Pose_or_Ustrasana_    2.jpg        5   \n",
       "2611                             Child_Pose_or_Balasana_    2.jpg        4   \n",
       "4233                            Corpse_Pose_or_Savasana_    2.jpg        4   \n",
       "4365                       Cow_Face_Pose_or_Gomukhasana_    2.jpg        1   \n",
       "4949   Dolphin_Plank_Pose_or_Makara_Adho_Mukha_Svanas...    2.jpg        4   \n",
       "5171   Downward-Facing_Dog_pose_or_Adho_Mukha_Svanasana_    2.jpg        0   \n",
       "5680                           Eagle_Pose_or_Garudasana_    2.jpg        0   \n",
       "5905                  Eight-Angle_Pose_or_Astavakrasana_    2.jpg        2   \n",
       "7467                       Firefly_Pose_or_Tittibhasana_    2.jpg        2   \n",
       "8003     Four-Limbed_Staff_Pose_or_Chaturanga_Dandasana_    2.jpg        4   \n",
       "9455             Handstand_pose_or_Adho_Mukha_Vrksasana_    2.jpg        3   \n",
       "9714                 Happy_Baby_Pose_or_Ananda_Balasana_    2.jpg        4   \n",
       "10138      Intense_Side_Stretch_Pose_or_Parsvottanasana_    2.jpg        0   \n",
       "10343          Legs-Up-the-Wall_Pose_or_Viparita_Karani_    2.jpg        3   \n",
       "10793                        Locust_Pose_or_Salabhasana_    2.jpg        4   \n",
       "11161            Lord_of_the_Dance_Pose_or_Natarajasana_    2.jpg        0   \n",
       "11236                    Low_Lunge_pose_or_Anjaneyasana_    2.jpg        0   \n",
       "11505                            Noose_Pose_or_Pasasana_    2.jpg        1   \n",
       "11807                        Plank_Pose_or_Kumbhakasana_    2.jpg        4   \n",
       "12066                             Plow_Pose_or_Halasana_    2.jpg        3   \n",
       "12462                                     Rajakapotasana    2.jpg        1   \n",
       "12565  Reclining_Hand-to-Big-Toe_Pose_or_Supta_Padang...    2.jpg        4   \n",
       "13591           Shoulder-Pressing_Pose_or_Bhujapidasana_    2.jpg        2   \n",
       "14061                   Side_Plank_Pose_or_Vasisthasana_    2.jpg        4   \n",
       "16147  Standing_big_toe_hold_pose_or_Utthita_Padangus...    2.jpg        0   \n",
       "16271     Supported_Headstand_pose_or_Salamba_Sirsasana_    2.jpg        3   \n",
       "17754                            Tree_Pose_or_Vrksasana_    2.jpg        0   \n",
       "18285     Upward_Bow_(Wheel)_Pose_or_Urdhva_Dhanurasana_    2.jpg        5   \n",
       "19341              Warrior_II_Pose_or_Virabhadrasana_II_    2.jpg        0   \n",
       "20036  Wide-Legged_Forward_Bend_pose_or_Prasarita_Pad...    2.jpg        0   \n",
       "20443                  Wild_Thing_pose_or_Camatkarasana_    2.jpg        5   \n",
       "20693              Wind_Relieving_pose_or_Pawanmuktasana    2.jpg        4   \n",
       "20842    viparita_virabhadrasana_or_reverse_warrior_pose    2.jpg        0   \n",
       "\n",
       "       Class_20  Class_82  \n",
       "33            8         0  \n",
       "102           5         1  \n",
       "319          19         2  \n",
       "1584         17         6  \n",
       "2611         14         9  \n",
       "4233         13        12  \n",
       "4365          5        13  \n",
       "4949         16        15  \n",
       "5171          1        17  \n",
       "5680          0        18  \n",
       "5905         10        19  \n",
       "7467          9        24  \n",
       "8003         16        26  \n",
       "9455         11        32  \n",
       "9714         13        33  \n",
       "10138         1        36  \n",
       "10343        11        37  \n",
       "10793        14        38  \n",
       "11161         3        39  \n",
       "11236         2        40  \n",
       "11505         4        41  \n",
       "11807        16        44  \n",
       "12066        12        45  \n",
       "12462         8        47  \n",
       "12565        13        48  \n",
       "13591         9        53  \n",
       "14061        15        56  \n",
       "16147         3        62  \n",
       "16271        11        63  \n",
       "17754         0        68  \n",
       "18285        17        69  \n",
       "19341         3        74  \n",
       "20036         1        77  \n",
       "20443        17        78  \n",
       "20693        13        79  \n",
       "20842         2        81  "
      ]
     },
     "execution_count": 142,
     "metadata": {},
     "output_type": "execute_result"
    }
   ],
   "source": [
    "# some images are not available, make sure to process accordingly\n",
    "# rows_tmp = df_Classes['IMG file'] == '64.jpg'\n",
    "rows_tmp = df_Classes['IMG file'] == '2.jpg'  # occurs 36 times\n",
    "df_Classes[rows_tmp] #.Class_6.unique() #.count_values['Class_6']"
   ]
  },
  {
   "cell_type": "code",
   "execution_count": 22,
   "id": "73ef3ae6-7db8-4d03-8a28-8d36970bd3f1",
   "metadata": {},
   "outputs": [
    {
     "data": {
      "text/html": [
       "<div>\n",
       "<style scoped>\n",
       "    .dataframe tbody tr th:only-of-type {\n",
       "        vertical-align: middle;\n",
       "    }\n",
       "\n",
       "    .dataframe tbody tr th {\n",
       "        vertical-align: top;\n",
       "    }\n",
       "\n",
       "    .dataframe thead th {\n",
       "        text-align: right;\n",
       "    }\n",
       "</style>\n",
       "<table border=\"1\" class=\"dataframe\">\n",
       "  <thead>\n",
       "    <tr style=\"text-align: right;\">\n",
       "      <th></th>\n",
       "      <th>Pose Name</th>\n",
       "      <th>IMG file</th>\n",
       "      <th>URL</th>\n",
       "    </tr>\n",
       "  </thead>\n",
       "  <tbody>\n",
       "    <tr>\n",
       "      <th>0</th>\n",
       "      <td>Akarna_Dhanurasana</td>\n",
       "      <td>680.jpg</td>\n",
       "      <td>http://allyogapositions.com/wp-content/uploads...</td>\n",
       "    </tr>\n",
       "    <tr>\n",
       "      <th>1</th>\n",
       "      <td>Akarna_Dhanurasana</td>\n",
       "      <td>543.jpg</td>\n",
       "      <td>https://image.slidesharecdn.com/basicyogapostu...</td>\n",
       "    </tr>\n",
       "    <tr>\n",
       "      <th>2</th>\n",
       "      <td>Akarna_Dhanurasana</td>\n",
       "      <td>512.jpg</td>\n",
       "      <td>https://image.slidesharecdn.com/basicyogapostu...</td>\n",
       "    </tr>\n",
       "    <tr>\n",
       "      <th>3</th>\n",
       "      <td>Akarna_Dhanurasana</td>\n",
       "      <td>478.jpg</td>\n",
       "      <td>http://nicholchaseyoga.com/wp-content/uploads/...</td>\n",
       "    </tr>\n",
       "    <tr>\n",
       "      <th>4</th>\n",
       "      <td>Akarna_Dhanurasana</td>\n",
       "      <td>434.jpg</td>\n",
       "      <td>http://3.bp.blogspot.com/_SUO8HYzS2nw/SUPSs71K...</td>\n",
       "    </tr>\n",
       "  </tbody>\n",
       "</table>\n",
       "</div>"
      ],
      "text/plain": [
       "            Pose Name IMG file  \\\n",
       "0  Akarna_Dhanurasana  680.jpg   \n",
       "1  Akarna_Dhanurasana  543.jpg   \n",
       "2  Akarna_Dhanurasana  512.jpg   \n",
       "3  Akarna_Dhanurasana  478.jpg   \n",
       "4  Akarna_Dhanurasana  434.jpg   \n",
       "\n",
       "                                                 URL  \n",
       "0  http://allyogapositions.com/wp-content/uploads...  \n",
       "1  https://image.slidesharecdn.com/basicyogapostu...  \n",
       "2  https://image.slidesharecdn.com/basicyogapostu...  \n",
       "3  http://nicholchaseyoga.com/wp-content/uploads/...  \n",
       "4  http://3.bp.blogspot.com/_SUO8HYzS2nw/SUPSs71K...  "
      ]
     },
     "execution_count": 22,
     "metadata": {},
     "output_type": "execute_result"
    }
   ],
   "source": [
    "df_URLs.head()"
   ]
  },
  {
   "cell_type": "code",
   "execution_count": 166,
   "id": "f830dc52-809d-489f-abb3-5f0d1ee62890",
   "metadata": {},
   "outputs": [
    {
     "data": {
      "text/html": [
       "<div>\n",
       "<style scoped>\n",
       "    .dataframe tbody tr th:only-of-type {\n",
       "        vertical-align: middle;\n",
       "    }\n",
       "\n",
       "    .dataframe tbody tr th {\n",
       "        vertical-align: top;\n",
       "    }\n",
       "\n",
       "    .dataframe thead th {\n",
       "        text-align: right;\n",
       "    }\n",
       "</style>\n",
       "<table border=\"1\" class=\"dataframe\">\n",
       "  <thead>\n",
       "    <tr style=\"text-align: right;\">\n",
       "      <th></th>\n",
       "      <th>Pose Name</th>\n",
       "      <th>IMG file</th>\n",
       "      <th>URL</th>\n",
       "    </tr>\n",
       "  </thead>\n",
       "  <tbody>\n",
       "    <tr>\n",
       "      <th>71</th>\n",
       "      <td>Akarna_Dhanurasana</td>\n",
       "      <td>64.jpg</td>\n",
       "      <td>http://st1.thehealthsite.com/wp-content/upload...</td>\n",
       "    </tr>\n",
       "  </tbody>\n",
       "</table>\n",
       "</div>"
      ],
      "text/plain": [
       "             Pose Name IMG file  \\\n",
       "71  Akarna_Dhanurasana   64.jpg   \n",
       "\n",
       "                                                  URL  \n",
       "71  http://st1.thehealthsite.com/wp-content/upload...  "
      ]
     },
     "execution_count": 166,
     "metadata": {},
     "output_type": "execute_result"
    }
   ],
   "source": [
    "# some images are not available, make sure to process accordingly\n",
    "# rows_tmp_URL = df_URLs['IMG file'] == '64.jpg'\n",
    "rows_tmp_URL = df_URLs['IMG file'] == '64.jpg' #'2.jpg'  # occurs 36 times\n",
    "# tmp2 = df_URLs[rows_tmp_URL].URL\n",
    "df_URLs[rows_tmp_URL].URL #.URL\n",
    "# df_URLs.URL.iloc[0] #.URL\n",
    "df_URLs.loc[df_URLs['IMG file'] == '64.jpg'] #.URL\n",
    "\n",
    "# print(tmp2)"
   ]
  },
  {
   "cell_type": "code",
   "execution_count": 127,
   "id": "748f9b8b-fc26-428b-b16e-bedd68cf4378",
   "metadata": {},
   "outputs": [
    {
     "name": "stdout",
     "output_type": "stream",
     "text": [
      "http://allyogapositions.com/wp-content/uploads/2016/07/archer-pose-yoga-_13.jpg\n"
     ]
    }
   ],
   "source": [
    "tmp = df_URLs.URL[0]\n",
    "print(tmp)"
   ]
  },
  {
   "cell_type": "code",
   "execution_count": 128,
   "id": "40fb0f32-e283-47a4-aebe-a6c213435a96",
   "metadata": {},
   "outputs": [
    {
     "data": {
      "text/plain": [
       "120"
      ]
     },
     "execution_count": 128,
     "metadata": {},
     "output_type": "execute_result"
    }
   ],
   "source": [
    "len(df_URLs)"
   ]
  },
  {
   "cell_type": "code",
   "execution_count": 129,
   "id": "93f1b4cb-4cbe-48ce-98ec-c255b16d261a",
   "metadata": {},
   "outputs": [
    {
     "data": {
      "text/plain": [
       "(120, 3)"
      ]
     },
     "execution_count": 129,
     "metadata": {},
     "output_type": "execute_result"
    }
   ],
   "source": [
    "df_URLs.shape"
   ]
  },
  {
   "cell_type": "code",
   "execution_count": 26,
   "id": "6605d06a-55c8-4caa-bcde-c1dab781c9b5",
   "metadata": {},
   "outputs": [
    {
     "name": "stdout",
     "output_type": "stream",
     "text": [
      "2.4.0\n"
     ]
    }
   ],
   "source": [
    "# https://www.tensorflow.org/tutorials/keras/classification\n",
    "# TensorFlow and tf.keras\n",
    "import tensorflow as tf\n",
    "print(tf.__version__)"
   ]
  },
  {
   "cell_type": "code",
   "execution_count": 27,
   "id": "a1d31e08-967d-452f-873b-d53afe118e6e",
   "metadata": {},
   "outputs": [
    {
     "data": {
      "text/plain": [
       "'http://allyogapositions.com/wp-content/uploads/2016/07/archer-pose-yoga-_13.jpg'"
      ]
     },
     "execution_count": 27,
     "metadata": {},
     "output_type": "execute_result"
    }
   ],
   "source": [
    "tmp"
   ]
  },
  {
   "cell_type": "code",
   "execution_count": 69,
   "id": "bbaae780-b77a-4bcf-9597-6dce5611f9bc",
   "metadata": {},
   "outputs": [],
   "source": [
    "from PIL import Image, ImageOps   # ImageOps to convert to gray\n",
    "# import PIL\n",
    "import requests\n",
    "from io import BytesIO"
   ]
  },
  {
   "cell_type": "code",
   "execution_count": null,
   "id": "a6c6deef-a68d-48ea-b351-685292c08248",
   "metadata": {},
   "outputs": [],
   "source": [
    "# https://stackoverflow.com/questions/4690600/python-exception-message-capturing\n",
    "# def upload_to_ftp(con, filepath):\n",
    "#     try:\n",
    "#         f = open(filepath,'rb')                # file to send\n",
    "#         con.storbinary('STOR '+ filepath, f)         # Send the file\n",
    "#         f.close()                                # Close file and FTP\n",
    "#         logger.info('File successfully uploaded to '+ FTPADDR)\n",
    "#     except, e:\n",
    "#         logger.error('Failed to upload to ftp: '+ str(e))"
   ]
  },
  {
   "cell_type": "code",
   "execution_count": 151,
   "id": "8b0325c6-4ff3-4aee-b2a6-9ed841175059",
   "metadata": {},
   "outputs": [],
   "source": [
    "# dir(PIL)\n",
    "# https://stackoverflow.com/questions/7391945/how-do-i-read-image-data-from-a-url-in-python\n",
    "# im = Image.open(requests.get(url, stream=True).raw)\n",
    "\n",
    "try:\n",
    "    response = requests.get(tmp)  # tmp is the first line\n",
    "    img_PIL = Image.open(BytesIO(response.content))\n",
    "    img_np = np.array(Image.open(BytesIO(response.content)))\n",
    "    \n",
    "except:  #No need to be specific about the error: Name is not defined  InvalidSchema\n",
    "    print(f'File is not available \\n {tmp2}')\n",
    "\n",
    "# img_PIL = Image.open(requests.get(tmp, stream=True).raw)\n",
    "# img_PIL = Image.open(r'http://allyogapositions.com/wp-content/uploads/2016/07/archer-pose-yoga-_13.jpg')\n",
    "# img_PIL #.show()\n",
    "\n",
    "# 64.jpg \n",
    "# InvalidSchema: No connection adapters were found for '71    http://st1.thehealthsite.com/wp-content/upload...\\nName: URL, dtype: object'\n",
    "# 2.jpg\n",
    "# InvalidSchema: No connection adapters were found for '118    https://yoga365fitness.files.wordpress.com/201...\\nName: URL, dtype: object'"
   ]
  },
  {
   "cell_type": "code",
   "execution_count": 150,
   "id": "de9b9511-2c93-4ca7-8be8-1ba1a7db3b5f",
   "metadata": {},
   "outputs": [
    {
     "data": {
      "text/plain": [
       "71    http://st1.thehealthsite.com/wp-content/upload...\n",
       "Name: URL, dtype: object"
      ]
     },
     "execution_count": 150,
     "metadata": {},
     "output_type": "execute_result"
    }
   ],
   "source": [
    "tmp2\n",
    "# 71    http://st1.thehealthsite.com/wp-content/upload...\n",
    "# Name: URL, dtype: object"
   ]
  },
  {
   "cell_type": "markdown",
   "id": "e1af975e-60cd-4b13-8acf-3a9b622b51e9",
   "metadata": {},
   "source": [
    "tmp"
   ]
  },
  {
   "cell_type": "code",
   "execution_count": 78,
   "id": "d5664cb7-a9bf-4098-8edd-6eeb8d734db6",
   "metadata": {},
   "outputs": [],
   "source": [
    "# applying grayscale method\n",
    "gray_image = ImageOps.grayscale(img_PIL)\n",
    "img_np_gr = np.array(gray_image)"
   ]
  },
  {
   "cell_type": "code",
   "execution_count": 89,
   "id": "38a95c54-6fa3-41c0-bd6b-1a868a2296fb",
   "metadata": {},
   "outputs": [
    {
     "data": {
      "text/plain": [
       "<matplotlib.image.AxesImage at 0x7fe8ab160690>"
      ]
     },
     "execution_count": 89,
     "metadata": {},
     "output_type": "execute_result"
    },
    {
     "data": {
      "image/png": "[encoded data removed]",
      "text/plain": [
       "<Figure size 1080x720 with 2 Axes>"
      ]
     },
     "metadata": {
      "needs_background": "light"
     },
     "output_type": "display_data"
    }
   ],
   "source": [
    "fig, ax = plt.subplots(1, 2, figsize=(15, 10))  #, figsize=(15, 20)\n",
    "ax[0].imshow(img_np)\n",
    "ax[1].imshow(img_np_gr, cmap='gray')\n",
    "# plt.show()"
   ]
  },
  {
   "cell_type": "code",
   "execution_count": null,
   "id": "5136ee6b-1fe9-4f4a-9d50-53cc4bc710f6",
   "metadata": {},
   "outputs": [],
   "source": []
  },
  {
   "cell_type": "code",
   "execution_count": 86,
   "id": "104d088f-b2e2-41e1-a88c-3b4b12194b5a",
   "metadata": {},
   "outputs": [
    {
     "data": {
      "text/plain": [
       "((413, 614, 3), (413, 614))"
      ]
     },
     "execution_count": 86,
     "metadata": {},
     "output_type": "execute_result"
    }
   ],
   "source": [
    "img_np.shape, img_np_gr.shape"
   ]
  },
  {
   "cell_type": "code",
   "execution_count": 65,
   "id": "306d02bd-728a-4cd3-8e2c-8d89ca4b9e0b",
   "metadata": {},
   "outputs": [
    {
     "data": {
      "text/plain": [
       "(413, 614, 3)"
      ]
     },
     "execution_count": 65,
     "metadata": {},
     "output_type": "execute_result"
    }
   ],
   "source": [
    "img_np.shape  # (413, 614, 3)  height, width, channels"
   ]
  },
  {
   "cell_type": "code",
   "execution_count": 66,
   "id": "d6fa1e79-1ac9-48d5-86fd-a0ec1db9e949",
   "metadata": {},
   "outputs": [],
   "source": [
    "# dir(img_np)"
   ]
  },
  {
   "cell_type": "code",
   "execution_count": 61,
   "id": "dfad00e3-8219-486e-92c6-ccc733be2e67",
   "metadata": {},
   "outputs": [
    {
     "data": {
      "text/plain": [
       "PIL.JpegImagePlugin.JpegImageFile"
      ]
     },
     "execution_count": 61,
     "metadata": {},
     "output_type": "execute_result"
    }
   ],
   "source": [
    "type(img_PIL)"
   ]
  },
  {
   "cell_type": "code",
   "execution_count": 58,
   "id": "19e49524-795d-4da7-9b69-139d47b115ca",
   "metadata": {},
   "outputs": [
    {
     "data": {
      "text/plain": [
       "(614, 413)"
      ]
     },
     "execution_count": 58,
     "metadata": {},
     "output_type": "execute_result"
    }
   ],
   "source": [
    "img_PIL.size  # _size or size img_PIL.height 413"
   ]
  },
  {
   "cell_type": "code",
   "execution_count": 57,
   "id": "7eed6539-9b15-40b0-9678-8b00bab6cd9d",
   "metadata": {},
   "outputs": [
    {
     "data": {
      "text/plain": [
       "{'jfif': 257,\n",
       " 'jfif_version': (1, 1),\n",
       " 'dpi': (96, 96),\n",
       " 'jfif_unit': 1,\n",
       " 'jfif_density': (96, 96),\n",
       " 'photoshop': {1028: b'\\x1c\\x02P\\x00\\x18Archer Pose Yoga _13.jpg\\x1c\\x02U\\x00\\x18Archer Pose Yoga _13.jpg\\x1c\\x02x\\x00\\x18Archer Pose Yoga _13.jpg\\x1c\\x02t\\x00\\x1bhttp://allyogapositions.com\\x00'}}"
      ]
     },
     "execution_count": 57,
     "metadata": {},
     "output_type": "execute_result"
    }
   ],
   "source": [
    "img_PIL.info # height, width"
   ]
  },
  {
   "cell_type": "code",
   "execution_count": 56,
   "id": "2702a682-d540-465f-b85e-8574281fff21",
   "metadata": {},
   "outputs": [],
   "source": [
    "img_PIL.show()  # opens image in Preview"
   ]
  },
  {
   "cell_type": "code",
   "execution_count": 45,
   "id": "75de1bf7-598f-452d-ba66-cd06a6bafbe7",
   "metadata": {},
   "outputs": [
    {
     "data": {
      "text/plain": [
       "['_Image__transformer',\n",
       " '__array_interface__',\n",
       " '__class__',\n",
       " '__copy__',\n",
       " '__delattr__',\n",
       " '__dict__',\n",
       " '__dir__',\n",
       " '__doc__',\n",
       " '__enter__',\n",
       " '__eq__',\n",
       " '__exit__',\n",
       " '__format__',\n",
       " '__ge__',\n",
       " '__getattribute__',\n",
       " '__getstate__',\n",
       " '__gt__',\n",
       " '__hash__',\n",
       " '__init__',\n",
       " '__init_subclass__',\n",
       " '__le__',\n",
       " '__lt__',\n",
       " '__module__',\n",
       " '__ne__',\n",
       " '__new__',\n",
       " '__reduce__',\n",
       " '__reduce_ex__',\n",
       " '__repr__',\n",
       " '__setattr__',\n",
       " '__setstate__',\n",
       " '__sizeof__',\n",
       " '__str__',\n",
       " '__subclasshook__',\n",
       " '__weakref__',\n",
       " '_close_exclusive_fp_after_loading',\n",
       " '_copy',\n",
       " '_crop',\n",
       " '_dump',\n",
       " '_ensure_mutable',\n",
       " '_exclusive_fp',\n",
       " '_exif',\n",
       " '_expand',\n",
       " '_get_safe_box',\n",
       " '_getexif',\n",
       " '_getmp',\n",
       " '_min_frame',\n",
       " '_new',\n",
       " '_open',\n",
       " '_repr_png_',\n",
       " '_seek_check',\n",
       " '_size',\n",
       " 'alpha_composite',\n",
       " 'app',\n",
       " 'applist',\n",
       " 'bits',\n",
       " 'category',\n",
       " 'close',\n",
       " 'convert',\n",
       " 'copy',\n",
       " 'crop',\n",
       " 'custom_mimetype',\n",
       " 'decoderconfig',\n",
       " 'decodermaxblock',\n",
       " 'draft',\n",
       " 'effect_spread',\n",
       " 'encoderconfig',\n",
       " 'encoderinfo',\n",
       " 'entropy',\n",
       " 'filename',\n",
       " 'filter',\n",
       " 'format',\n",
       " 'format_description',\n",
       " 'fp',\n",
       " 'frombytes',\n",
       " 'get_format_mimetype',\n",
       " 'getbands',\n",
       " 'getbbox',\n",
       " 'getchannel',\n",
       " 'getcolors',\n",
       " 'getdata',\n",
       " 'getexif',\n",
       " 'getextrema',\n",
       " 'getim',\n",
       " 'getpalette',\n",
       " 'getpixel',\n",
       " 'getprojection',\n",
       " 'height',\n",
       " 'histogram',\n",
       " 'huffman_ac',\n",
       " 'huffman_dc',\n",
       " 'icclist',\n",
       " 'im',\n",
       " 'info',\n",
       " 'layer',\n",
       " 'layers',\n",
       " 'load',\n",
       " 'load_djpeg',\n",
       " 'load_end',\n",
       " 'load_prepare',\n",
       " 'load_read',\n",
       " 'map',\n",
       " 'mode',\n",
       " 'palette',\n",
       " 'paste',\n",
       " 'point',\n",
       " 'putalpha',\n",
       " 'putdata',\n",
       " 'putpalette',\n",
       " 'putpixel',\n",
       " 'pyaccess',\n",
       " 'quantization',\n",
       " 'quantize',\n",
       " 'readonly',\n",
       " 'reduce',\n",
       " 'remap_palette',\n",
       " 'resize',\n",
       " 'rotate',\n",
       " 'save',\n",
       " 'seek',\n",
       " 'show',\n",
       " 'size',\n",
       " 'split',\n",
       " 'tell',\n",
       " 'thumbnail',\n",
       " 'tile',\n",
       " 'tobitmap',\n",
       " 'tobytes',\n",
       " 'toqimage',\n",
       " 'toqpixmap',\n",
       " 'transform',\n",
       " 'transpose',\n",
       " 'verify',\n",
       " 'width']"
      ]
     },
     "execution_count": 45,
     "metadata": {},
     "output_type": "execute_result"
    }
   ],
   "source": [
    "dir(img_PIL)"
   ]
  },
  {
   "cell_type": "code",
   "execution_count": 164,
   "id": "0a03b806-cb50-4f95-9b89-7317412071b7",
   "metadata": {},
   "outputs": [
    {
     "ename": "FileNotFoundError",
     "evalue": "[Errno 2] No such file or directory: 'http://allyogapositions.com/wp-content/uploads/2016/07/archer-pose-yoga-_13.jpg'",
     "output_type": "error",
     "traceback": [
      "\u001b[0;31m---------------------------------------------------------------------------\u001b[0m",
      "\u001b[0;31mFileNotFoundError\u001b[0m                         Traceback (most recent call last)",
      "\u001b[0;32m<ipython-input-164-8684edaee0c5>\u001b[0m in \u001b[0;36m<module>\u001b[0;34m\u001b[0m\n\u001b[1;32m      7\u001b[0m \u001b[0;34m\u001b[0m\u001b[0m\n\u001b[1;32m      8\u001b[0m \u001b[0;31m# load the image\u001b[0m\u001b[0;34m\u001b[0m\u001b[0;34m\u001b[0m\u001b[0;34m\u001b[0m\u001b[0m\n\u001b[0;32m----> 9\u001b[0;31m \u001b[0mimg\u001b[0m \u001b[0;34m=\u001b[0m \u001b[0mload_img\u001b[0m\u001b[0;34m(\u001b[0m\u001b[0mtmp\u001b[0m\u001b[0;34m)\u001b[0m\u001b[0;34m\u001b[0m\u001b[0;34m\u001b[0m\u001b[0m\n\u001b[0m\u001b[1;32m     10\u001b[0m \u001b[0mprint\u001b[0m\u001b[0;34m(\u001b[0m\u001b[0;34m\"Orignal:\"\u001b[0m \u001b[0;34m,\u001b[0m\u001b[0mtype\u001b[0m\u001b[0;34m(\u001b[0m\u001b[0mimg\u001b[0m\u001b[0;34m)\u001b[0m\u001b[0;34m)\u001b[0m\u001b[0;34m\u001b[0m\u001b[0;34m\u001b[0m\u001b[0m\n\u001b[1;32m     11\u001b[0m \u001b[0;34m\u001b[0m\u001b[0m\n",
      "\u001b[0;32m~/opt/anaconda3/envs/tf2/lib/python3.7/site-packages/tensorflow/python/keras/preprocessing/image.py\u001b[0m in \u001b[0;36mload_img\u001b[0;34m(path, grayscale, color_mode, target_size, interpolation)\u001b[0m\n\u001b[1;32m    298\u001b[0m   \"\"\"\n\u001b[1;32m    299\u001b[0m   return image.load_img(path, grayscale=grayscale, color_mode=color_mode,\n\u001b[0;32m--> 300\u001b[0;31m                         target_size=target_size, interpolation=interpolation)\n\u001b[0m\u001b[1;32m    301\u001b[0m \u001b[0;34m\u001b[0m\u001b[0m\n\u001b[1;32m    302\u001b[0m \u001b[0;34m\u001b[0m\u001b[0m\n",
      "\u001b[0;32m~/opt/anaconda3/envs/tf2/lib/python3.7/site-packages/keras_preprocessing/image/utils.py\u001b[0m in \u001b[0;36mload_img\u001b[0;34m(path, grayscale, color_mode, target_size, interpolation)\u001b[0m\n\u001b[1;32m    111\u001b[0m         raise ImportError('Could not import PIL.Image. '\n\u001b[1;32m    112\u001b[0m                           'The use of `load_img` requires PIL.')\n\u001b[0;32m--> 113\u001b[0;31m     \u001b[0;32mwith\u001b[0m \u001b[0mopen\u001b[0m\u001b[0;34m(\u001b[0m\u001b[0mpath\u001b[0m\u001b[0;34m,\u001b[0m \u001b[0;34m'rb'\u001b[0m\u001b[0;34m)\u001b[0m \u001b[0;32mas\u001b[0m \u001b[0mf\u001b[0m\u001b[0;34m:\u001b[0m\u001b[0;34m\u001b[0m\u001b[0;34m\u001b[0m\u001b[0m\n\u001b[0m\u001b[1;32m    114\u001b[0m         \u001b[0mimg\u001b[0m \u001b[0;34m=\u001b[0m \u001b[0mpil_image\u001b[0m\u001b[0;34m.\u001b[0m\u001b[0mopen\u001b[0m\u001b[0;34m(\u001b[0m\u001b[0mio\u001b[0m\u001b[0;34m.\u001b[0m\u001b[0mBytesIO\u001b[0m\u001b[0;34m(\u001b[0m\u001b[0mf\u001b[0m\u001b[0;34m.\u001b[0m\u001b[0mread\u001b[0m\u001b[0;34m(\u001b[0m\u001b[0;34m)\u001b[0m\u001b[0;34m)\u001b[0m\u001b[0;34m)\u001b[0m\u001b[0;34m\u001b[0m\u001b[0;34m\u001b[0m\u001b[0m\n\u001b[1;32m    115\u001b[0m         \u001b[0;32mif\u001b[0m \u001b[0mcolor_mode\u001b[0m \u001b[0;34m==\u001b[0m \u001b[0;34m'grayscale'\u001b[0m\u001b[0;34m:\u001b[0m\u001b[0;34m\u001b[0m\u001b[0;34m\u001b[0m\u001b[0m\n",
      "\u001b[0;31mFileNotFoundError\u001b[0m: [Errno 2] No such file or directory: 'http://allyogapositions.com/wp-content/uploads/2016/07/archer-pose-yoga-_13.jpg'"
     ]
    }
   ],
   "source": [
    "# https://www.pluralsight.com/guides/importing-image-data-into-numpy-arrays\n",
    "# Keras API\n",
    "# example of converting an image with the Keras API\n",
    "from keras.preprocessing.image import load_img\n",
    "from keras.preprocessing.image import img_to_array\n",
    "from keras.preprocessing.image import array_to_img\n",
    "\n",
    "# load the image\n",
    "img = load_img(tmp)\n",
    "print(\"Orignal:\" ,type(img))\n",
    "\n",
    "# convert to numpy array\n",
    "img_array = img_to_array(img)\n",
    "print(\"NumPy array info:\") \n",
    "print(type(img_array))    \n",
    "\n",
    "print(\"type:\",img_array.dtype)\n",
    "print(\"shape:\",img_array.shape)"
   ]
  },
  {
   "cell_type": "code",
   "execution_count": null,
   "id": "4f85ebea-0940-46c0-b197-9e4a85cfa78f",
   "metadata": {},
   "outputs": [],
   "source": []
  }
 ],
 "metadata": {
  "kernelspec": {
   "display_name": "Python 3",
   "language": "python",
   "name": "python3"
  },
  "language_info": {
   "codemirror_mode": {
    "name": "ipython",
    "version": 3
   },
   "file_extension": ".py",
   "mimetype": "text/x-python",
   "name": "python",
   "nbconvert_exporter": "python",
   "pygments_lexer": "ipython3",
   "version": "3.7.10"
  }
 },
 "nbformat": 4,
 "nbformat_minor": 5
}
