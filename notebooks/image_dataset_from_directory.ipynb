{
 "cells": [
  {
   "cell_type": "code",
   "execution_count": 1,
   "id": "fdb685e6-b4a2-4493-8bb7-ba24e49def27",
   "metadata": {},
   "outputs": [],
   "source": [
    "# Code to reshuffle downloaded image files into labeled subdirectories\n",
    "# to enable keras dataset creation using \n",
    "# keras image_dataset_from_directory function\n",
    "#\n",
    "# Current directory structure:\n",
    "# \n",
    "# /img\n",
    "#   Pose_no_XYZ_directory\n",
    "#         zyx.jpg\n",
    "#         ...\n",
    "# \n",
    "#  /data directory contains two files\n",
    "#    yoga_train.txt\n",
    "#    yoga_test.txt\n",
    "# \n",
    "#  each with structure of\n",
    "#     Akarna_Dhanurasana/16.jpg,1,8,0\n",
    "#     Akarna_Dhanurasana/95.jpg,1,8,0\n",
    "# \n",
    "#  to enable keras image_dataset_from_directory function,\n",
    "#  the following directory structure should be created:\n",
    "# \n",
    "#     main_directory/\n",
    "#         ...class_a/\n",
    "#         ......a_image_1.jpg\n",
    "#         ......a_image_2.jpg\n",
    "#         ...class_b/\n",
    "#         ......b_image_1.jpg\n",
    "#         ......b_image_2.jpg\n",
    "# \n",
    "\n",
    "# Code steps should be as follows\n",
    "# Parameter No 1: TRAIN or TEST - read yoga_train.txt or yoga_test.txt\n",
    "# Parameter No 2: classification tier 1: classes 0~5 (6 total classes)\n",
    "#                 classification tier 2: classes 0~19 (20 total classes)\n",
    "#                 classification tier 3: classes 0~81 (82 total classes)\n",
    "# \n",
    "#  read line from yoga_train.txt\n",
    "#  in data directory check/create subdirectory TRAIN / TEST\n",
    "#  depending on the value of parameter 2, check/create\n",
    "#  directory YOGA_CLASSES_6, or YOGA_CLASSES_20, or YOGA_CLASSES_82\n",
    "#  INSIDE corresponding directories create directory structure a follows:\n",
    "#  \n",
    "#  read line from yoga_train.txt, say\n",
    "#       Akarna_Dhanurasana/16.jpg,1,8,0\n",
    "#  assuming parameter no 2 = 2 (20 classes)\n",
    "#  check/create directory named \"class_8\" - label of the tier 2,\n",
    "#  copy file img/Akarna_Dhanurasana/16.jpg as \n",
    "#  KERAS_data/TRAIN/YOGA_CLASSES_20/class_8/8_Akarna_Dhanurasana_16.jpg\n",
    "#  \n",
    "#  read next line from yoga_train.txt\n",
    "# \n",
    "# Code would have to be run six(6) times - three classification levels for \n",
    "# train data\n",
    "# and three classification levels for the test data\n",
    "# \n",
    "# yoga_train_ds = tf.keras.preprocessing.image_dataset_from_directory(\n",
    "#     directory,\n",
    "#     labels=\"inferred\", ...\n",
    "# \n",
    "#  where directory is 'data/TRAIN/YOGA_CLASSES_20/'"
   ]
  },
  {
   "cell_type": "code",
   "execution_count": 2,
   "id": "f951b193-8081-4920-b020-75f60c3168a4",
   "metadata": {},
   "outputs": [],
   "source": [
    "# location variables\n",
    "# debugging mode\n",
    "DEBUG = True\n",
    "\n",
    "def log(s):\n",
    "    '''\n",
    "    https://stackoverflow.com/questions/6579496/using-print-statements-only-to-debug\n",
    "    '''\n",
    "    if DEBUG:\n",
    "        print(s)\n",
    "\n",
    "# https://pythonexamples.org/python-logging-debug/\n",
    "#  \n",
    "import logging\n",
    "\n",
    "class MyFilter(object):\n",
    "    def __init__(self, level):\n",
    "        self.__level = level\n",
    "\n",
    "    def filter(self, logRecord):\n",
    "        return logRecord.levelno <= self.__level\n",
    "\n",
    "#create a logger\n",
    "logger = logging.getLogger('mylogger')\n",
    "logger.setLevel(logging.DEBUG)\n",
    "handler = logging.FileHandler('image_dataset_from_directory.log')\n",
    "formatter = logging.Formatter('%(asctime)s - %(name)s - %(levelname)s - %(message)s')\n",
    "handler.setFormatter(formatter)\n",
    "#set filter to log only DEBUG lines\n",
    "handler.addFilter(MyFilter(logging.DEBUG))\n",
    "logger.addHandler(handler)\n",
    "\n",
    "#write a debug line to log file\n",
    "# logger.debug('This is a DEBUG message')\n",
    "# logger.info('This is a INFO message')\n",
    "# logger.warning('This is a WARNING message')\n",
    "# logger.error('This is an ERROR message')\n",
    "# logger.critical('This is a CRITICAL message')"
   ]
  },
  {
   "cell_type": "code",
   "execution_count": null,
   "id": "b8f8cf91-0337-433f-8de5-f6020a89a90e",
   "metadata": {},
   "outputs": [],
   "source": []
  },
  {
   "cell_type": "code",
   "execution_count": 4,
   "id": "071120e0-52b1-47b7-b7ee-51cff7da3a28",
   "metadata": {},
   "outputs": [],
   "source": []
  },
  {
   "cell_type": "code",
   "execution_count": 5,
   "id": "0a717acb-308a-47d7-bc05-9f6478401181",
   "metadata": {},
   "outputs": [
    {
     "name": "stdout",
     "output_type": "stream",
     "text": [
      "/Users/alexey_imac/Documents/Data_Science_Immersive_Galvanize/ALEXEY_DATA/CAPSTONES/C2_PROJECT/notebooks\n"
     ]
    }
   ],
   "source": [
    "!pwd"
   ]
  },
  {
   "cell_type": "code",
   "execution_count": 6,
   "id": "8918885d-e8a8-41bf-b9dc-25a965e12965",
   "metadata": {},
   "outputs": [],
   "source": [
    "os.chdir('..')"
   ]
  },
  {
   "cell_type": "code",
   "execution_count": 7,
   "id": "d5e51aec-a9ab-4b7b-8f26-c3bee3f8e45b",
   "metadata": {},
   "outputs": [
    {
     "name": "stdout",
     "output_type": "stream",
     "text": [
      "Current Directory = /Users/alexey_imac/Documents/Data_Science_Immersive_Galvanize/ALEXEY_DATA/CAPSTONES/C2_PROJECT\n"
     ]
    }
   ],
   "source": [
    "print(f'Current Directory = {os.getcwd()}')"
   ]
  },
  {
   "cell_type": "code",
   "execution_count": 36,
   "id": "38f18932-5842-4d2e-bd5a-43747e36ccd1",
   "metadata": {},
   "outputs": [],
   "source": [
    "src = r'C:\\Users\\Administrator.SHAREPOINTSKY\\Desktop\\Work\\name.txt'"
   ]
  },
  {
   "cell_type": "code",
   "execution_count": 110,
   "id": "c495777d-e9f9-442e-b8a3-6fafe60c541e",
   "metadata": {},
   "outputs": [],
   "source": [
    "def keras_dir_check_mkdir(train_test: str, classes_n: str, class_n: str):\n",
    "    '''\n",
    "    Check if destination folder for keras\n",
    "    image_dataset_from_directory function exists,\n",
    "    create one if it does not\n",
    "    KERAS_data/TRAIN/YOGA_CLASSES_20/class_8/8_Akarna_Dhanurasana_16.jpg\n",
    "    '''\n",
    "    dir_path_assembled = 'KERAS_data/' + TRAIN_TEST + '/' + classes_n + '/' + 'class_' + class_n\n",
    "    if os.path.isdir(dir_path_assembled):\n",
    "        # directory exists in !pwd\n",
    "        logger.debug(f'Directory {dir_path_assembled} exists')\n",
    "    else:\n",
    "        os.mkdir(dir_path_assembled)\n",
    "        logger.debug(f'Directory {dir_path_assembled} was CREATED!')\n",
    "\n",
    "\n",
    "# REF: https://pythonguides.com/python-copy-file/\n",
    "import shutil\n",
    "import os\n"
   ]
  },
  {
   "cell_type": "code",
   "execution_count": 136,
   "id": "a75a1260-bfb8-4aa7-84fb-765f961a9785",
   "metadata": {},
   "outputs": [
    {
     "name": "stdout",
     "output_type": "stream",
     "text": [
      "Opened file <_io.TextIOWrapper name='data/yoga_test.txt' mode='r' encoding='UTF-8'> for processing ===============\n",
      "Skipped 2129 image files. Read 7456 lines\n",
      "Closed <_io.TextIOWrapper name='data/yoga_test.txt' mode='r' encoding='UTF-8'>  #####################\n"
     ]
    }
   ],
   "source": [
    "# change this line manually for test directory structure\n",
    "# file_name_2_process = 'data/yoga_train.txt'  # change to 'data/yoga_test.txt'\n",
    "# TRAIN_TEST = 'TRAIN'                         # change to 'TEST'\n",
    "file_name_2_process = 'data/yoga_test.txt'  # change to 'data/yoga_test.txt'\n",
    "TRAIN_TEST = 'TEST'                         # change to 'TEST'\n",
    "\n",
    "\n",
    "# check if passed file parameter exists\n",
    "if os.path.isfile(file_name_2_process):  # file exists, open\n",
    "    file = open(file_name_2_process, 'r')\n",
    "#     beepy.beep(sound=5) # 5 : 'ready'\n",
    "    log(f'Opened file {file} for processing ===============')\n",
    "    print(f'Opened file {file} for processing ===============')\n",
    "    logger.debug(f'Opened file {file} for processing ===============')\n",
    "else:\n",
    "    log(f'File does not exists: {file_name_2_process}')\n",
    "    logger.debug(f'File does not exists: {file_name_2_process}')\n",
    "    \n",
    "\n",
    "line_count = 1\n",
    "skipped_files_counter = 0\n",
    "\n",
    "\n",
    "for line in file:  \n",
    "    logger.debug(f'File {file_name_2_process}. Processing line {line_count}: \\n {line}')\n",
    "    log(f'File {file_name_2_process}. Processing line {line_count}: \\n {line}')\n",
    "#     print(f'Line = {line}')\n",
    "\n",
    "\n",
    "#     # parse the line for directory_file, class_8, class_20, class_82\n",
    "    [directory_file_jpg, class_6, class_20, class_82] = line.split(',')\n",
    "    class_82 = class_82.rstrip(\"\\n\")  #\\n just don't need it\n",
    "\n",
    "#   check if directory_file exists before copy-pasting. ADD img/ (assuming program is in the root)\n",
    "    if os.path.isfile('img/' + directory_file_jpg):  # file exists continue\n",
    "#         beepy.beep(sound=5) # 5 : 'ready'\n",
    "        log(f'{directory_file_jpg} exists, will copy for keras ===============')\n",
    "        logger.debug(f'{directory_file_jpg} exists, will copy for keras ===============')\n",
    "    \n",
    "    #   check if destination directories exist, create 'em if they does not\n",
    "    #   KERAS_data/ prefix is hard coded !!!\n",
    "        keras_dir_check_mkdir(TRAIN_TEST, 'YOGA_CLASSES_6', class_6)    \n",
    "        keras_dir_check_mkdir(TRAIN_TEST, 'YOGA_CLASSES_20', class_20)    \n",
    "        keras_dir_check_mkdir(TRAIN_TEST, 'YOGA_CLASSES_82', class_82)    \n",
    "\n",
    "        source = 'img/' + directory_file_jpg\n",
    "        classes_values = zip(['YOGA_CLASSES_6', 'YOGA_CLASSES_20', 'YOGA_CLASSES_82'], [class_6, class_20, class_82])\n",
    "\n",
    "        for cl, vl in classes_values:\n",
    "    #         print('started copying loop')\n",
    "            dir_prefix = 'KERAS_data/' + TRAIN_TEST + '/' + cl + '/' + 'class_' + vl + '/'\n",
    "            new_name = vl + '_' + directory_file_jpg.split('/')[0] + '_' + directory_file_jpg.split('/')[1]\n",
    "            destination = dir_prefix + new_name # # Akarna_Dhanurasana/16.jpg => 0_Akarna_Dhanurasana_16.jpg\n",
    "    #   process the line to rename file three times, and copy to three destinations \n",
    "            if os.path.isfile(destination):  # files exist, skip\n",
    "                logger.debug(f'File {destination} exist, skipping read/write!')\n",
    "                log(f'File {destination} exist, skipping read/write!')\n",
    "    #             print(f'File {destination} exist, skipping read/write!')\n",
    "\n",
    "            else:  # call file read/write subroutine\n",
    "                log(f'source = {source}')\n",
    "                log(f'destination = {destination}')\n",
    "                log(f'name_new = {name_new}')\n",
    "\n",
    "    #             print(f'source = {source}')\n",
    "    #             print(f'destination = {destination}')\n",
    "    #             print(f'name_new = {name_new}')\n",
    "\n",
    "    #           perform copy / rename \n",
    "                shutil.copyfile(source, destination)\n",
    "    \n",
    "    else:\n",
    "        log(f'{directory_file_jpg} DOES NOT exist, SKIPPING ===============')\n",
    "        logger.debug(f'File does not exists: {file_name_2_process}')\n",
    "        skipped_files_counter += 1\n",
    "\n",
    "            \n",
    "    line_count += 1\n",
    "\n",
    "#     if line_count == 6:\n",
    "#         break # debugging block\n",
    "    \n",
    "log(f'Skipped {skipped_files_counter} image files.')\n",
    "print(f'Skipped {skipped_files_counter} image files. Read {line_count-1} lines')\n",
    "\n",
    "file.close()  # very important AFTER successful completion.\n",
    "log(f'Closed {file}  #####################')\n",
    "print(f'Closed {file}  #####################')\n",
    "logger.debug(f'Closed {file}  #####################')\n",
    "# beepy.beep(sound=6) # 6 : 'success'"
   ]
  },
  {
   "cell_type": "code",
   "execution_count": 125,
   "id": "ffa79457-0d1a-4509-a11f-ff3c2b4de9b4",
   "metadata": {},
   "outputs": [],
   "source": [
    "file.close()  # very important AFTER successful completion."
   ]
  },
  {
   "cell_type": "code",
   "execution_count": 126,
   "id": "63a3e54b-f89e-4f20-975d-f395fe04e168",
   "metadata": {},
   "outputs": [],
   "source": [
    "DEBUG = False"
   ]
  },
  {
   "cell_type": "code",
   "execution_count": 130,
   "id": "63a2381a-8117-426f-bf63-b785933a9662",
   "metadata": {},
   "outputs": [
    {
     "name": "stdout",
     "output_type": "stream",
     "text": [
      "set()\n"
     ]
    }
   ],
   "source": [
    "# !pwd\n",
    "# z = set(classes_values)\n",
    "# print(z)"
   ]
  },
  {
   "cell_type": "code",
   "execution_count": 108,
   "id": "4a351d15-ccce-4d11-9ae9-092d620333ae",
   "metadata": {},
   "outputs": [
    {
     "data": {
      "text/plain": [
       "'KERAS_data/TRAIN/YOGA_CLASSES_82/class_0/0_Akarna_Dhanurasana_229.jpg'"
      ]
     },
     "execution_count": 108,
     "metadata": {},
     "output_type": "execute_result"
    }
   ],
   "source": [
    "destination"
   ]
  },
  {
   "cell_type": "code",
   "execution_count": 109,
   "id": "c0545f93-5bdf-4570-90a3-389bf92965f2",
   "metadata": {},
   "outputs": [
    {
     "data": {
      "text/plain": [
       "'KERAS_data/TRAIN/YOGA_CLASSES_82/class_0/0_Akarna_Dhanurasana_229.jpg'"
      ]
     },
     "execution_count": 109,
     "metadata": {},
     "output_type": "execute_result"
    }
   ],
   "source": [
    "shutil.copyfile(source, destination)\n",
    "# os.rename(destination,name_new)"
   ]
  },
  {
   "cell_type": "code",
   "execution_count": 67,
   "id": "9578cc89-5d48-4de6-9c4b-543b8e7de374",
   "metadata": {},
   "outputs": [],
   "source": [
    "tmp = !pwd"
   ]
  },
  {
   "cell_type": "code",
   "execution_count": 68,
   "id": "e85b36f0-a0dc-4aba-ada9-4ca86495b22e",
   "metadata": {},
   "outputs": [
    {
     "data": {
      "text/plain": [
       "['/Users/alexey_imac/Documents/Data_Science_Immersive_Galvanize/ALEXEY_DATA/CAPSTONES/C2_PROJECT']"
      ]
     },
     "execution_count": 68,
     "metadata": {},
     "output_type": "execute_result"
    }
   ],
   "source": [
    "tmp"
   ]
  },
  {
   "cell_type": "code",
   "execution_count": 69,
   "id": "4748f089-eaf8-4653-9e84-8088654c9668",
   "metadata": {},
   "outputs": [
    {
     "data": {
      "text/plain": [
       "'/Users/alexey_imac/Documents/Data_Science_Immersive_Galvanize/ALEXEY_DATA/CAPSTONES/C2_PROJECT'"
      ]
     },
     "execution_count": 69,
     "metadata": {},
     "output_type": "execute_result"
    }
   ],
   "source": [
    "tmp[0]"
   ]
  },
  {
   "cell_type": "code",
   "execution_count": null,
   "id": "1a99f43e-b59b-4fb3-ae98-353622810baa",
   "metadata": {},
   "outputs": [],
   "source": []
  }
 ],
 "metadata": {
  "kernelspec": {
   "display_name": "Python 3",
   "language": "python",
   "name": "python3"
  },
  "language_info": {
   "codemirror_mode": {
    "name": "ipython",
    "version": 3
   },
   "file_extension": ".py",
   "mimetype": "text/x-python",
   "name": "python",
   "nbconvert_exporter": "python",
   "pygments_lexer": "ipython3",
   "version": "3.7.10"
  }
 },
 "nbformat": 4,
 "nbformat_minor": 5
}
